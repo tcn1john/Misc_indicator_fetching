{
  "cells": [
    {
      "cell_type": "code",
      "execution_count": 37,
      "metadata": {
        "id": "L9bq5_ozlcPV"
      },
      "outputs": [],
      "source": [
        "import pandas as pd\n",
        "import numpy as np\n",
        "from datetime import date\n",
        "\n",
        "# Get today's date\n",
        "today = str(date.today())"
      ]
    },
    {
      "cell_type": "code",
      "execution_count": 38,
      "metadata": {
        "id": "r5Cw0Z1TlcPX"
      },
      "outputs": [],
      "source": [
        "import requests\n",
        "\n",
        "def fetch_text_from_url(url):\n",
        "    try:\n",
        "        response = requests.get(url)\n",
        "        response.raise_for_status()  # Raise an exception if request was unsuccessful\n",
        "        return response.text\n",
        "    except requests.exceptions.RequestException as e:\n",
        "        print(f\"Error occurred: {e}\")\n",
        "\n",
        "# Example usage:\n",
        "webpage_url = \"https://www.linkedin.com/jobs/search?keywords=&location=%E5%85%A8%E7%90%83&locationId=&geoId=92000000&f_TPR=&f_C=3608&position=1&pageNum=0\"\n",
        "webpage_text = fetch_text_from_url(webpage_url)\n",
        "#print(webpage_text)\n",
        "temp = {}\n"
      ]
    },
    {
      "cell_type": "code",
      "execution_count": 39,
      "metadata": {
        "colab": {
          "base_uri": "https://localhost:8080/",
          "height": 343
        },
        "id": "ARZO9-xYlcPY",
        "outputId": "4f60bd41-0b64-4f13-9087-8b0a35a0ecdb"
      },
      "outputs": [
        {
          "name": "stdout",
          "output_type": "stream",
          "text": [
            "Downloaded!\n",
            "Nvdia 745 33\n",
            "Downloaded!\n",
            "AMD 1000 54\n",
            "Downloaded!\n",
            "TSMC 318 5\n",
            "Downloaded!\n",
            "Apple 3000 121\n",
            "Downloaded!\n",
            "Microsoft 3000 276\n",
            "Downloaded!\n",
            "Tesla 8000 70\n"
          ]
        },
        {
          "data": {
            "text/html": [
              "<div>\n",
              "<style scoped>\n",
              "    .dataframe tbody tr th:only-of-type {\n",
              "        vertical-align: middle;\n",
              "    }\n",
              "\n",
              "    .dataframe tbody tr th {\n",
              "        vertical-align: top;\n",
              "    }\n",
              "\n",
              "    .dataframe thead th {\n",
              "        text-align: right;\n",
              "    }\n",
              "</style>\n",
              "<table border=\"1\" class=\"dataframe\">\n",
              "  <thead>\n",
              "    <tr style=\"text-align: right;\">\n",
              "      <th></th>\n",
              "      <th>Name</th>\n",
              "      <th>Jobs</th>\n",
              "      <th>NewJobs</th>\n",
              "      <th>NewRatioPrct</th>\n",
              "      <th>Date</th>\n",
              "    </tr>\n",
              "  </thead>\n",
              "  <tbody>\n",
              "    <tr>\n",
              "      <th>0</th>\n",
              "      <td>Nvdia</td>\n",
              "      <td>745</td>\n",
              "      <td>33</td>\n",
              "      <td>4.42953</td>\n",
              "      <td>2023-05-27</td>\n",
              "    </tr>\n",
              "    <tr>\n",
              "      <th>1</th>\n",
              "      <td>AMD</td>\n",
              "      <td>1000</td>\n",
              "      <td>54</td>\n",
              "      <td>5.4</td>\n",
              "      <td>2023-05-27</td>\n",
              "    </tr>\n",
              "    <tr>\n",
              "      <th>2</th>\n",
              "      <td>TSMC</td>\n",
              "      <td>318</td>\n",
              "      <td>5</td>\n",
              "      <td>1.572327</td>\n",
              "      <td>2023-05-27</td>\n",
              "    </tr>\n",
              "    <tr>\n",
              "      <th>3</th>\n",
              "      <td>Apple</td>\n",
              "      <td>3000</td>\n",
              "      <td>121</td>\n",
              "      <td>4.033333</td>\n",
              "      <td>2023-05-27</td>\n",
              "    </tr>\n",
              "    <tr>\n",
              "      <th>4</th>\n",
              "      <td>Microsoft</td>\n",
              "      <td>3000</td>\n",
              "      <td>276</td>\n",
              "      <td>9.2</td>\n",
              "      <td>2023-05-27</td>\n",
              "    </tr>\n",
              "    <tr>\n",
              "      <th>5</th>\n",
              "      <td>Tesla</td>\n",
              "      <td>8000</td>\n",
              "      <td>70</td>\n",
              "      <td>0.875</td>\n",
              "      <td>2023-05-27</td>\n",
              "    </tr>\n",
              "  </tbody>\n",
              "</table>\n",
              "</div>"
            ],
            "text/plain": [
              "        Name  Jobs NewJobs NewRatioPrct        Date\n",
              "0      Nvdia   745      33      4.42953  2023-05-27\n",
              "1        AMD  1000      54          5.4  2023-05-27\n",
              "2       TSMC   318       5     1.572327  2023-05-27\n",
              "3      Apple  3000     121     4.033333  2023-05-27\n",
              "4  Microsoft  3000     276          9.2  2023-05-27\n",
              "5      Tesla  8000      70        0.875  2023-05-27"
            ]
          },
          "execution_count": 39,
          "metadata": {},
          "output_type": "execute_result"
        }
      ],
      "source": [
        "import re\n",
        "list_url = {\"Nvdia\":\"https://www.linkedin.com/jobs/search?keywords=&location=%E5%85%A8%E7%90%83&locationId=&geoId=92000000&f_TPR=&f_C=3608&position=1&pageNum=0\",\n",
        "            \"AMD\":\"https://www.linkedin.com/jobs/search?keywords=&location=%E5%85%A8%E7%90%83&locationId=&geoId=92000000&f_TPR=&f_C=1497&position=1&pageNum=0\",\n",
        "            \"TSMC\":\"https://www.linkedin.com/jobs/search?keywords=&location=%E5%85%A8%E7%90%83&locationId=&geoId=92000000&f_TPR=&f_C=8869&position=1&pageNum=0\",\n",
        "            \"Apple\":\"https://www.linkedin.com/jobs/search?keywords=&location=%E5%85%A8%E7%90%83&locationId=&geoId=92000000&f_TPR=&f_C=162479&position=1&pageNum=0\",\n",
        "            \"Microsoft\":\"https://www.linkedin.com/jobs/search?keywords=&location=%E5%85%A8%E7%90%83&locationId=&geoId=92000000&f_TPR=&f_C=1035&position=1&pageNum=0\",\n",
        "            \"Tesla\":\"https://www.linkedin.com/jobs/search?keywords=&location=%E5%85%A8%E7%90%83&locationId=&geoId=92000000&f_TPR=&f_C=15564&position=1&pageNum=0\"}\n",
        "result = pd.DataFrame([], columns = [\"Name\",\"Jobs\",\"NewJobs\"])\n",
        "result = pd.DataFrame([], columns = [\"Name\",\"Jobs\",\"NewJobs\",\"NewRatioPrct\"])\n",
        "\n",
        "result = pd.DataFrame([], columns = [\"Name\",\"Jobs\",\"NewJobs\",\"NewRatioPrct\",\"Date\"])\n",
        "for i in list_url:\n",
        "    if(i not in temp):\n",
        "        webpage_url = list_url[i]\n",
        "        webpage_text = fetch_text_from_url(webpage_url)\n",
        "        temp[i] = webpage_text\n",
        "        print(\"Downloaded!\")\n",
        "    else:\n",
        "        webpage_text = temp[i]\n",
        "    pos_job_txt = str(re.findall(\"<title>.{0,200}title\",webpage_text)).split(sep=\"Jobs\")\n",
        "    pos_job_txt[0] = int(str(re.sub(\",\",\"\",str(re.findall(\"[0-9,]{1,10}\",pos_job_txt[0])[0]))))\n",
        "    pos_job_txt[1] = int(str(re.sub(\",\",\"\",str(re.findall(\"[0-9,]{1,10}\",pos_job_txt[1])[0]))))\n",
        "    print(i,pos_job_txt[0],pos_job_txt[1])\n",
        "    newstuff = pd.DataFrame([ i, pos_job_txt[0], pos_job_txt[1], (100*(pos_job_txt[1]/pos_job_txt[0])), today]).transpose()\n",
        "    newstuff.columns = result.columns\n",
        "    #print(newstuff)\n",
        "    result = pd.concat(objs = [result,newstuff],axis=0)\n",
        "\n",
        "    #result = pd.concat(objs = [result,pd.DataFrame({\"Name\":i,\"Jobs\":pos_job_txt[0],\"NewJobs\":pos_job_txt[1]})], axis =0, ignore_index=True)\n",
        "result.index = [i for i in range(len(result))]\n",
        "result\n",
        "#webpage_text[pos_job_txt-100:pos_job_txt+100]"
      ]
    },
    {
      "cell_type": "code",
      "execution_count": 43,
      "metadata": {
        "id": "WEDEAPlvlcPZ"
      },
      "outputs": [],
      "source": [
        "csvfilename = 'jobcount.csv'\n",
        "#First time\n",
        "#result.to_csv(csvfilename, index=False)\n",
        "if(pd.read_csv(csvfilename).iloc[-1][-1]!=today):\n",
        "    result.to_csv(csvfilename, index=False, mode = 'a', header=False)"
      ]
    },
    {
      "cell_type": "code",
      "execution_count": 42,
      "metadata": {},
      "outputs": [],
      "source": []
    },
    {
      "cell_type": "code",
      "execution_count": null,
      "metadata": {},
      "outputs": [],
      "source": []
    }
  ],
  "metadata": {
    "colab": {
      "provenance": []
    },
    "kernelspec": {
      "display_name": "Python 3",
      "language": "python",
      "name": "python3"
    },
    "language_info": {
      "codemirror_mode": {
        "name": "ipython",
        "version": 3
      },
      "file_extension": ".py",
      "mimetype": "text/x-python",
      "name": "python",
      "nbconvert_exporter": "python",
      "pygments_lexer": "ipython3",
      "version": "3.10.5"
    },
    "orig_nbformat": 4
  },
  "nbformat": 4,
  "nbformat_minor": 0
}
